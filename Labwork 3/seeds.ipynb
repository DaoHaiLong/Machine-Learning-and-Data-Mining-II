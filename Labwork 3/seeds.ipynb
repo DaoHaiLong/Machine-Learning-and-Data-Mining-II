{
 "cells": [
  {
   "cell_type": "code",
   "execution_count": 2,
   "metadata": {},
   "outputs": [
    {
     "data": {
      "text/html": [
       "<div>\n",
       "<style scoped>\n",
       "    .dataframe tbody tr th:only-of-type {\n",
       "        vertical-align: middle;\n",
       "    }\n",
       "\n",
       "    .dataframe tbody tr th {\n",
       "        vertical-align: top;\n",
       "    }\n",
       "\n",
       "    .dataframe thead th {\n",
       "        text-align: right;\n",
       "    }\n",
       "</style>\n",
       "<table border=\"1\" class=\"dataframe\">\n",
       "  <thead>\n",
       "    <tr style=\"text-align: right;\">\n",
       "      <th></th>\n",
       "      <th>area</th>\n",
       "      <th>perimeter</th>\n",
       "      <th>compactness</th>\n",
       "      <th>lengthofkernel</th>\n",
       "      <th>widthofkernel</th>\n",
       "      <th>asymmetrycoefficient</th>\n",
       "      <th>lengthofkernelgroove</th>\n",
       "      <th>selector</th>\n",
       "    </tr>\n",
       "  </thead>\n",
       "  <tbody>\n",
       "    <tr>\n",
       "      <th>0</th>\n",
       "      <td>14.88</td>\n",
       "      <td>14.57</td>\n",
       "      <td>0.8811</td>\n",
       "      <td>5.554</td>\n",
       "      <td>3.333</td>\n",
       "      <td>1.018</td>\n",
       "      <td>4.956</td>\n",
       "      <td>1</td>\n",
       "    </tr>\n",
       "    <tr>\n",
       "      <th>1</th>\n",
       "      <td>14.29</td>\n",
       "      <td>14.09</td>\n",
       "      <td>0.9050</td>\n",
       "      <td>5.291</td>\n",
       "      <td>3.337</td>\n",
       "      <td>2.699</td>\n",
       "      <td>4.825</td>\n",
       "      <td>1</td>\n",
       "    </tr>\n",
       "    <tr>\n",
       "      <th>2</th>\n",
       "      <td>13.84</td>\n",
       "      <td>13.94</td>\n",
       "      <td>0.8955</td>\n",
       "      <td>5.324</td>\n",
       "      <td>3.379</td>\n",
       "      <td>2.259</td>\n",
       "      <td>4.805</td>\n",
       "      <td>1</td>\n",
       "    </tr>\n",
       "    <tr>\n",
       "      <th>3</th>\n",
       "      <td>16.14</td>\n",
       "      <td>14.99</td>\n",
       "      <td>0.9034</td>\n",
       "      <td>5.658</td>\n",
       "      <td>3.562</td>\n",
       "      <td>1.355</td>\n",
       "      <td>5.175</td>\n",
       "      <td>1</td>\n",
       "    </tr>\n",
       "    <tr>\n",
       "      <th>4</th>\n",
       "      <td>14.38</td>\n",
       "      <td>14.21</td>\n",
       "      <td>0.8951</td>\n",
       "      <td>5.386</td>\n",
       "      <td>3.312</td>\n",
       "      <td>2.462</td>\n",
       "      <td>4.956</td>\n",
       "      <td>1</td>\n",
       "    </tr>\n",
       "  </tbody>\n",
       "</table>\n",
       "</div>"
      ],
      "text/plain": [
       "    area  perimeter  compactness   lengthofkernel  widthofkernel  \\\n",
       "0  14.88      14.57       0.8811            5.554          3.333   \n",
       "1  14.29      14.09       0.9050            5.291          3.337   \n",
       "2  13.84      13.94       0.8955            5.324          3.379   \n",
       "3  16.14      14.99       0.9034            5.658          3.562   \n",
       "4  14.38      14.21       0.8951            5.386          3.312   \n",
       "\n",
       "   asymmetrycoefficient  lengthofkernelgroove  selector  \n",
       "0                 1.018                 4.956         1  \n",
       "1                 2.699                 4.825         1  \n",
       "2                 2.259                 4.805         1  \n",
       "3                 1.355                 5.175         1  \n",
       "4                 2.462                 4.956         1  "
      ]
     },
     "execution_count": 2,
     "metadata": {},
     "output_type": "execute_result"
    }
   ],
   "source": [
    "import numpy as np\n",
    "import pandas as pd\n",
    "\n",
    "Seed_data=pd.read_csv('./seeds_dataset.csv')\n",
    "Seed_data.columns=['area','perimeter','compactness',' lengthofkernel','widthofkernel','asymmetrycoefficient','lengthofkernelgroove','selector']\n",
    "Seed_data.head()\n"
   ]
  },
  {
   "cell_type": "code",
   "execution_count": 3,
   "metadata": {},
   "outputs": [],
   "source": [
    "from sklearn.preprocessing import LabelEncoder\n",
    "feature_columns = ['area','perimeter','compactness',' lengthofkernel','widthofkernel','asymmetrycoefficient','lengthofkernelgroove']\n",
    "X_seed=Seed_data[feature_columns].values\n",
    "y=Seed_data['selector'].values\n",
    "le = LabelEncoder()\n",
    "y_seed = le.fit_transform(y)"
   ]
  },
  {
   "cell_type": "code",
   "execution_count": 24,
   "metadata": {},
   "outputs": [],
   "source": [
    "# K=7\n",
    "from sklearn.neighbors import KNeighborsClassifier\n",
    "from sklearn.metrics import confusion_matrix, accuracy_score\n",
    "from sklearn.model_selection import cross_val_score\n",
    "from sklearn.model_selection import train_test_split\n",
    "X_train, X_test, y_train, y_test = train_test_split(X_seed, y_seed, test_size=0.20)\n",
    "# Instantiate learning model (k = 7)\n",
    "classifier_seed = KNeighborsClassifier(n_neighbors=7)\n",
    "\n",
    "# Fitting the model\n",
    "classifier_seed.fit(X_train, y_train)\n",
    "\n",
    "# Predicting the Test set results\n",
    "y_pred = classifier_seed.predict(X_test)"
   ]
  },
  {
   "cell_type": "code",
   "execution_count": 25,
   "metadata": {},
   "outputs": [
    {
     "name": "stdout",
     "output_type": "stream",
     "text": [
      "Confusion Matrix\n",
      " [[10  0  2]\n",
      " [ 1 14  0]\n",
      " [ 0  0 15]]\n",
      "              precision    recall  f1-score   support\n",
      "\n",
      "           0       0.91      0.83      0.87        12\n",
      "           1       1.00      0.93      0.97        15\n",
      "           2       0.88      1.00      0.94        15\n",
      "\n",
      "    accuracy                           0.93        42\n",
      "   macro avg       0.93      0.92      0.92        42\n",
      "weighted avg       0.93      0.93      0.93        42\n",
      "\n"
     ]
    }
   ],
   "source": [
    "from sklearn.metrics import classification_report\n",
    "print(\"Confusion Matrix\\n\",confusion_matrix(y_test, y_pred))\n",
    "print(classification_report(y_test, y_pred))"
   ]
  },
  {
   "cell_type": "code",
   "execution_count": 6,
   "metadata": {},
   "outputs": [],
   "source": [
    "# K=5\n",
    "from sklearn.neighbors import KNeighborsClassifier\n",
    "from sklearn.metrics import confusion_matrix, accuracy_score\n",
    "from sklearn.model_selection import cross_val_score\n",
    "from sklearn.model_selection import train_test_split\n",
    "X_train, X_test, y_train, y_test = train_test_split(X_seed, y_seed, test_size=0.20)\n",
    "# Instantiate learning model (k = 5)\n",
    "classifier_acce = KNeighborsClassifier(n_neighbors=3)\n",
    "\n",
    "# Fitting the model\n",
    "classifier_acce.fit(X_train, y_train)\n",
    "\n",
    "# Predicting the Test set results\n",
    "y_pred = classifier_acce.predict(X_test)"
   ]
  },
  {
   "cell_type": "code",
   "execution_count": 7,
   "metadata": {},
   "outputs": [
    {
     "name": "stdout",
     "output_type": "stream",
     "text": [
      "Confusion Matrix\n",
      " [[11  1  1]\n",
      " [ 0 15  0]\n",
      " [ 0  0 14]]\n",
      "              precision    recall  f1-score   support\n",
      "\n",
      "           0       1.00      0.85      0.92        13\n",
      "           1       0.94      1.00      0.97        15\n",
      "           2       0.93      1.00      0.97        14\n",
      "\n",
      "    accuracy                           0.95        42\n",
      "   macro avg       0.96      0.95      0.95        42\n",
      "weighted avg       0.96      0.95      0.95        42\n",
      "\n"
     ]
    }
   ],
   "source": [
    "print(\"Confusion Matrix\\n\",confusion_matrix(y_test, y_pred))\n",
    "print(classification_report(y_test, y_pred))"
   ]
  },
  {
   "cell_type": "markdown",
   "metadata": {},
   "source": [
    "#### Normalize"
   ]
  },
  {
   "cell_type": "code",
   "execution_count": 8,
   "metadata": {},
   "outputs": [],
   "source": [
    "from sklearn import preprocessing\n",
    "normalized_data = preprocessing.normalize(X_seed)\n",
    "# Instantiate learning model (k = 5)\n",
    "X_train_no, X_test_no, y_train_no, y_test_no = train_test_split(normalized_data, y_seed, test_size=0.20)\n",
    "classifier = KNeighborsClassifier(n_neighbors=5)\n",
    "\n",
    "# Fitting the model\n",
    "classifier.fit(X_train_no, y_train_no)\n",
    "\n",
    "# Predicting the Test set results\n",
    "y_pred = classifier.predict(X_test_no)"
   ]
  },
  {
   "cell_type": "code",
   "execution_count": 9,
   "metadata": {},
   "outputs": [
    {
     "name": "stdout",
     "output_type": "stream",
     "text": [
      "Confusion Matrix\n",
      " [[14  1  1]\n",
      " [ 1 12  0]\n",
      " [ 1  0 12]]\n",
      "              precision    recall  f1-score   support\n",
      "\n",
      "           0       0.88      0.88      0.88        16\n",
      "           1       0.92      0.92      0.92        13\n",
      "           2       0.92      0.92      0.92        13\n",
      "\n",
      "    accuracy                           0.90        42\n",
      "   macro avg       0.91      0.91      0.91        42\n",
      "weighted avg       0.90      0.90      0.90        42\n",
      "\n"
     ]
    }
   ],
   "source": [
    "print(\"Confusion Matrix\\n\",confusion_matrix(y_test_no, y_pred))\n",
    "print(classification_report(y_test_no, y_pred))"
   ]
  },
  {
   "cell_type": "markdown",
   "metadata": {},
   "source": [
    "#### Comparing Error rate"
   ]
  },
  {
   "cell_type": "code",
   "execution_count": 10,
   "metadata": {},
   "outputs": [
    {
     "data": {
      "text/plain": [
       "Text(0, 0.5, 'Mean Error')"
      ]
     },
     "execution_count": 10,
     "metadata": {},
     "output_type": "execute_result"
    },
    {
     "data": {
      "image/png": "[encoded data removed]",
      "text/plain": [
       "<Figure size 864x720 with 1 Axes>"
      ]
     },
     "metadata": {
      "needs_background": "light"
     },
     "output_type": "display_data"
    }
   ],
   "source": [
    "import matplotlib.pyplot as plt\n",
    "error_acce = []\n",
    "X_train_new, X_test_new, y_train_new, y_test_new = train_test_split(X_seed, y_seed, test_size=0.20)\n",
    "\n",
    "# Calculating error for K values between 1 and 15\n",
    "for i in range(1, 15):\n",
    "    knn_classifier_seed = KNeighborsClassifier(n_neighbors=i)\n",
    "    knn_classifier_seed.fit(X_train_new, y_train_new)\n",
    "    y_pred = knn_classifier_seed.predict(X_test_new)\n",
    "    error_acce.append(np.mean(y_pred != y_test_new))\n",
    "    \n",
    "plt.figure(figsize=(12, 10))\n",
    "plt.plot(range(1, 15), error_acce, color='red', linestyle='dashed', marker='o',\n",
    "         markerfacecolor='blue', markersize=5)\n",
    "plt.title('Error Rate of label on test data vs K Value')\n",
    "plt.xlabel('K Value')\n",
    "plt.ylabel('Mean Error')"
   ]
  },
  {
   "cell_type": "markdown",
   "metadata": {},
   "source": [
    "#### Using PCA"
   ]
  },
  {
   "cell_type": "code",
   "execution_count": 11,
   "metadata": {},
   "outputs": [
    {
     "name": "stdout",
     "output_type": "stream",
     "text": [
      "Eigenvalues [5.21362919e+00 1.70454412e+00 6.81711513e-01 3.72033950e-01\n",
      " 4.51466311e-02 6.92210972e-04 5.35487918e-03 1.53490369e-02] \n",
      "\n",
      "Eigenvectors \n",
      "[[-0.43541535 -0.0808739   0.02721885 -0.01068086  0.26233477  0.73267236\n",
      "   0.42798899 -0.11922685]\n",
      " [-0.43156485 -0.11775917 -0.0617752   0.06414472  0.30543518 -0.6747512\n",
      "   0.4748507  -0.13375655]\n",
      " [-0.28701531  0.3615505   0.65547056 -0.37878591 -0.33023464 -0.08009625\n",
      "   0.14251995  0.27928617]\n",
      " [-0.4109366  -0.20258352 -0.21994191  0.17328634  0.05504723  0.01177558\n",
      "  -0.26982282  0.79731751]\n",
      " [-0.42822571  0.03018611  0.22414208 -0.09134082  0.32706728 -0.03037504\n",
      "  -0.70409807 -0.39176394]\n",
      " [ 0.13955398 -0.55476986  0.64447358  0.50665649 -0.01728947  0.00115038\n",
      "   0.01918635  0.0063034 ]\n",
      " [-0.36493476 -0.38113627 -0.224793   -0.05133778 -0.75960108 -0.00122744\n",
      "  -0.04582033 -0.29882352]\n",
      " [ 0.19206409 -0.5948846   0.03618154 -0.7447046   0.20381111 -0.02055456\n",
      "   0.00205829  0.10660183]]\n",
      "\n"
     ]
    }
   ],
   "source": [
    "from sklearn.preprocessing import StandardScaler\n",
    "X_std = StandardScaler().fit_transform(Seed_data)\n",
    "# Covarance matrix\n",
    "X_covariance_matrix=np.cov(X_std.T)\n",
    "X_covariance_matrix\n",
    "\n",
    "# eignvalues eignvector\n",
    "Eigenvalues, Eigenvectors = np.linalg.eig(X_covariance_matrix)\n",
    "print('Eigenvalues %s \\n' %Eigenvalues)\n",
    "print('Eigenvectors \\n%s\\n' %Eigenvectors)"
   ]
  },
  {
   "cell_type": "code",
   "execution_count": 12,
   "metadata": {},
   "outputs": [
    {
     "name": "stdout",
     "output_type": "stream",
     "text": [
      "Eigenvalues in descending order:\n",
      "5.213629193638244\n",
      "1.7045441240596015\n",
      "0.6817115125203284\n",
      "0.3720339500638315\n",
      "0.045146631095873475\n",
      "0.015349036930915603\n",
      "0.00535487918084452\n",
      "0.0006922109719018725\n"
     ]
    }
   ],
   "source": [
    "# Make a list of (eigenvalue, eigenvector) tuples\n",
    "eig_pairs = [(np.abs(Eigenvalues[i]), Eigenvectors[:,i]) for i in range(len(Eigenvalues))]\n",
    "\n",
    "# Sort the (eigenvalue, eigenvector) tuples from high to low\n",
    "eig_pairs.sort(key=lambda x: x[0], reverse=True)\n",
    "\n",
    "# Visually confirm that the list is correctly sorted by decreasing eigenvalues\n",
    "print('Eigenvalues in descending order:')\n",
    "for i in eig_pairs:\n",
    "    print(i[0])"
   ]
  },
  {
   "cell_type": "code",
   "execution_count": 13,
   "metadata": {},
   "outputs": [
    {
     "data": {
      "text/plain": [
       "array([[-0.43541535, -0.0808739 ],\n",
       "       [-0.43156485, -0.11775917],\n",
       "       [-0.28701531,  0.3615505 ],\n",
       "       [-0.4109366 , -0.20258352],\n",
       "       [-0.42822571,  0.03018611],\n",
       "       [ 0.13955398, -0.55476986],\n",
       "       [-0.36493476, -0.38113627],\n",
       "       [ 0.19206409, -0.5948846 ]])"
      ]
     },
     "execution_count": 13,
     "metadata": {},
     "output_type": "execute_result"
    }
   ],
   "source": [
    "W_matrix = np.hstack((eig_pairs[0][1].reshape(8,1),\n",
    "                      eig_pairs[1][1].reshape(8,1)))\n",
    "W_matrix"
   ]
  },
  {
   "cell_type": "code",
   "execution_count": 14,
   "metadata": {},
   "outputs": [
    {
     "data": {
      "text/plain": [
       "array([[-0.2983016 ,  2.27121283],\n",
       "       [ 0.15146837,  2.29712372],\n",
       "       [ 0.27946559,  2.34430715],\n",
       "       [-1.38397001,  2.21573759],\n",
       "       [ 0.0394514 ,  2.07290297]])"
      ]
     },
     "execution_count": 14,
     "metadata": {},
     "output_type": "execute_result"
    }
   ],
   "source": [
    "Y_seed= X_std.dot(W_matrix)\n",
    "Y_seed[0:5]"
   ]
  },
  {
   "cell_type": "code",
   "execution_count": 15,
   "metadata": {},
   "outputs": [],
   "source": [
    "from sklearn.neighbors import KNeighborsClassifier\n",
    "from sklearn.metrics import confusion_matrix, accuracy_score\n",
    "from sklearn.model_selection import cross_val_score\n",
    "from sklearn.model_selection import train_test_split\n",
    "X_train, X_test, y_train, y_test = train_test_split(Y_seed,y_seed, test_size=0.20)\n",
    "# Instantiate learning model (k = 5)\n",
    "classifier_acce_pca = KNeighborsClassifier(n_neighbors=5)\n",
    "\n",
    "# Fitting the model\n",
    "classifier_acce_pca.fit(X_train, y_train)\n",
    "\n",
    "# Predicting the Test set results\n",
    "# Predicting the Test set results\n",
    "y_pred = classifier_acce_pca.predict(X_test)"
   ]
  },
  {
   "cell_type": "code",
   "execution_count": 16,
   "metadata": {},
   "outputs": [
    {
     "name": "stdout",
     "output_type": "stream",
     "text": [
      "Confusion Matrix\n",
      " [[10  1  0]\n",
      " [ 0 13  0]\n",
      " [ 0  0 18]]\n",
      "              precision    recall  f1-score   support\n",
      "\n",
      "           0       1.00      0.91      0.95        11\n",
      "           1       0.93      1.00      0.96        13\n",
      "           2       1.00      1.00      1.00        18\n",
      "\n",
      "    accuracy                           0.98        42\n",
      "   macro avg       0.98      0.97      0.97        42\n",
      "weighted avg       0.98      0.98      0.98        42\n",
      "\n"
     ]
    }
   ],
   "source": [
    "from sklearn.metrics import classification_report\n",
    "print(\"Confusion Matrix\\n\",confusion_matrix(y_test, y_pred))\n",
    "print(classification_report(y_test, y_pred))"
   ]
  },
  {
   "cell_type": "markdown",
   "metadata": {},
   "source": [
    "#### K cross"
   ]
  },
  {
   "cell_type": "code",
   "execution_count": 17,
   "metadata": {},
   "outputs": [
    {
     "name": "stdout",
     "output_type": "stream",
     "text": [
      "[0.8849264705882354, 0.8485294117647058, 0.8661764705882353, 0.8966911764705883, 0.8904411764705882]\n"
     ]
    }
   ],
   "source": [
    "# creating list of K for KNN\n",
    "list_neighbors = list(range(1,10,2))\n",
    "# creating list of cv scores\n",
    "cross_scores = []\n",
    "X_train, X_test, y_train, y_test = train_test_split(X_seed, y_seed, test_size=0.20)\n",
    "# perform 10-fold cross validation\n",
    "for k in list_neighbors:\n",
    "    knn = KNeighborsClassifier(n_neighbors=k)\n",
    "    scores = cross_val_score(knn, X_train, y_train, cv=10, scoring='accuracy')\n",
    "    cross_scores.append(scores.mean())\n",
    "print(cross_scores)"
   ]
  },
  {
   "cell_type": "code",
   "execution_count": 18,
   "metadata": {},
   "outputs": [
    {
     "data": {
      "text/plain": [
       "<Figure size 432x288 with 0 Axes>"
      ]
     },
     "metadata": {},
     "output_type": "display_data"
    },
    {
     "data": {
      "image/png": "[encoded data removed]",
      "text/plain": [
       "<Figure size 1080x720 with 1 Axes>"
      ]
     },
     "metadata": {
      "needs_background": "light"
     },
     "output_type": "display_data"
    }
   ],
   "source": [
    "import seaborn as sns\n",
    "# changing to misclassification error\n",
    "MSE = [1 - x for x in cross_scores]\n",
    "\n",
    "plt.figure()\n",
    "plt.figure(figsize=(15,10))\n",
    "plt.title('The optimal number of neighbors', fontsize=20, fontweight='normal')\n",
    "plt.xlabel('Number of Neighbors', fontsize=15)\n",
    "plt.ylabel('Misclassification Error', fontsize=15)\n",
    "sns.set_style(\"whitegrid\")\n",
    "plt.plot(list_neighbors, MSE)\n",
    "\n",
    "plt.show()"
   ]
  },
  {
   "cell_type": "code",
   "execution_count": 19,
   "metadata": {},
   "outputs": [],
   "source": [
    "# Instantiate learning model (k = 5)\n",
    "classifier_iris_kcross = KNeighborsClassifier(n_neighbors=5)\n",
    "\n",
    "# Fitting the model\n",
    "classifier_iris_kcross.fit(X_train, y_train)\n",
    "\n",
    "# Predicting the Test set results\n",
    "# Predicting the Test set results\n",
    "y_pred = classifier_iris_kcross.predict(X_test)"
   ]
  },
  {
   "cell_type": "code",
   "execution_count": 20,
   "metadata": {},
   "outputs": [
    {
     "name": "stdout",
     "output_type": "stream",
     "text": [
      "Confusion Matrix\n",
      " [[13  0  3]\n",
      " [ 1 10  0]\n",
      " [ 1  0 14]]\n",
      "              precision    recall  f1-score   support\n",
      "\n",
      "           0       0.87      0.81      0.84        16\n",
      "           1       1.00      0.91      0.95        11\n",
      "           2       0.82      0.93      0.87        15\n",
      "\n",
      "    accuracy                           0.88        42\n",
      "   macro avg       0.90      0.88      0.89        42\n",
      "weighted avg       0.89      0.88      0.88        42\n",
      "\n"
     ]
    }
   ],
   "source": [
    "print(\"Confusion Matrix\\n\",confusion_matrix(y_test, y_pred))\n",
    "print(classification_report(y_test, y_pred))"
   ]
  },
  {
   "cell_type": "markdown",
   "metadata": {},
   "source": [
    "#### leave one out"
   ]
  },
  {
   "cell_type": "code",
   "execution_count": 21,
   "metadata": {},
   "outputs": [
    {
     "data": {
      "text/plain": [
       "0.9520958083832335"
      ]
     },
     "execution_count": 21,
     "metadata": {},
     "output_type": "execute_result"
    }
   ],
   "source": [
    "from sklearn.model_selection import LeaveOneOut\n",
    "from sklearn.model_selection import cross_val_score\n",
    "from sklearn.model_selection import train_test_split\n",
    "from sklearn.discriminant_analysis import LinearDiscriminantAnalysis\n",
    "from sklearn.preprocessing import LabelEncoder\n",
    "\n",
    "X_train_lou, X_test_lou, y_train_lou, y_test_lou = train_test_split(X_seed, y_seed, test_size=0.20)\n",
    "lda = LinearDiscriminantAnalysis()\n",
    "cv_loo = LeaveOneOut()\n",
    "scores = cross_val_score(lda, X_train_lou, y_train_lou, cv=cv_loo)\n",
    "scores.mean() "
   ]
  },
  {
   "cell_type": "code",
   "execution_count": 23,
   "metadata": {},
   "outputs": [
    {
     "name": "stderr",
     "output_type": "stream",
     "text": [
      "No handles with labels found to put in legend.\n"
     ]
    },
    {
     "data": {
      "image/png": "[encoded data removed]",
      "text/plain": [
       "<Figure size 432x288 with 1 Axes>"
      ]
     },
     "metadata": {},
     "output_type": "display_data"
    }
   ],
   "source": [
    "from matplotlib import pyplot as plt\n",
    "for c, i, target_name in zip(\"rgb\", [0, 1, 2], X_seed):\n",
    "    plt.scatter(Y_seed[y==i,0], Y_seed[y==i,1], c=c,s=100, edgecolor=\"k\")\n",
    "plt.xlabel('Principal Component 1')\n",
    "plt.ylabel('Principal Component 2')\n",
    "plt.legend()\n",
    "plt.title('Two Principle Components Analysis of IRIS dataset')\n",
    "plt.show()"
   ]
  }
 ],
 "metadata": {
  "interpreter": {
   "hash": "0af457d1c4c0be5f4ee8805515926bec19c150716d26ab9b7c7feeaabb39b92c"
  },
  "kernelspec": {
   "display_name": "Python 3.7.0 64-bit",
   "language": "python",
   "name": "python3"
  },
  "language_info": {
   "codemirror_mode": {
    "name": "ipython",
    "version": 3
   },
   "file_extension": ".py",
   "mimetype": "text/x-python",
   "name": "python",
   "nbconvert_exporter": "python",
   "pygments_lexer": "ipython3",
   "version": "3.7.0"
  },
  "orig_nbformat": 4
 },
 "nbformat": 4,
 "nbformat_minor": 2
}
